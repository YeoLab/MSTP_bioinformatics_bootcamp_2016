{
 "cells": [
  {
   "cell_type": "markdown",
   "metadata": {},
   "source": [
    "# Track the flow of work we have done in processing the datasets"
   ]
  },
  {
   "cell_type": "markdown",
   "metadata": {},
   "source": [
    "**Step 1: Download dataset**\n",
    "\n",
    "\n",
    "First we will download the data from the [ENCODE](https://www.encodeproject.org/) website. There are many different experiments and datasets available here. You can download both raw and fully processed data. For our learning purposes, we will download the raw data (fastq). Let's take a look at knockdown of LIN28B in K562 cells (data [here](https://www.encodeproject.org/experiments/ENCSR598YQX/)). When you have found the link to the fastq files, right click on it and select \"copy Link Address\". \n",
    "\n",
    "Then on TSCC, put your file in the proper directory by first moving into the directory where you would like your data to end up, and then pasting the link you have copied after the \"wget\" command. (Remember this is what we did when we downloaded Anaconda). Keep in mind that this data is paired-end, so there are two reads per dataset (R1 and R2). So you will need to download two files. \n",
    "\n",
    "    cd ~/raw_data/\n",
    "    wget https://www.encodeproject.org/files/ENCFF653FTD/@@download/ENCFF653FTD.fastq.gz\n",
    "    \n",
    "    wget https://www.encodeproject.org/files/ENCFF621LMO/@@download/ENCFF621LMO.fastq.gz\n",
    "    \n"
   ]
  },
  {
   "cell_type": "markdown",
   "metadata": {},
   "source": [
    "**Step 2: Run fastqc to check the sequencing quality of the reads that you downloaded. Remember that we installed fastqc with:**\n",
    "\n",
    "    conda install -c bioconda fastqc\n",
    "    \n",
    "You can see that it has installed properly with:\n",
    "\n",
    "    which fastqc\n",
    "    \n",
    "The output should be something like:\n",
    "\n",
    "    ~/anaconda2/bin/fastqc\n",
    "    \n",
    "*Q. Why is it finding the program in this location?*\n",
    "\n",
    "\n",
    "Run fastqc to check the quality of your sequencing results. Remember to specify the full path of where your datasets are stored and where you want the processed data to end up. You will have to do this one one file at a time. REMEMBER TO USE TABS TO AVOID TYPOS!  \n",
    "\n",
    "    fastqc ENCFF621LMO.fastq.gz -o ~/processed_data_test/\n",
    "    fastqc ENCFF653FTD.fastq.gz -o ~/processed_data_test/\n",
    "\n",
    "Use scp to move the file outputs to somewhere on your desktop so you can view the output in a web browser. Here is an example below. scp is a bash command, the syntax is always:\n",
    "\n",
    "scp sourcefile destinationfile\n",
    "\n",
    "Since in this instance, the sourcefile is on tscc, you need to include your login information followed by a colon before the full path of the file you would like to move. \n",
    "\n",
    "Notice the * at the end of the line. This is a wild-card character. This will copy all files that have the same prefix.\n",
    "\n",
    "The destination file is simply ./ meaning the file that we are currently sitting in on our home computer. This is because we first moved into the directory where we want these files to be copied to.\n",
    "\n",
    "On your local machine (not TSCC). Make a folder where you want this data to land and move into it. In this example, I am copying data into a folder on my desktop called mstp_bioinformatics. Keep in mind this folder must exist before you try to copy something into it.\n",
    "    \n",
    "    cd ~/Desktop/mstp_bioinformatics\n",
    "    scp ecwheele@tscc-login.sdsc.edu:~/processed_data/ENCFF943VGE_fastqc* ./\n",
    "    \n",
    "or:\n",
    "\n",
    "    scp ecwheele@tscc-login.sdsc.edu:~/processed_data/ENCFF943VGE_fastqc* ~/Desktop/mstp_bioinformatics/\n",
    "    \n",
    "The most common error message associated with this command will be that the file or destination does not exist. When possible, use tabs to make sure you are avoiding typos. Also copy and paste directories directly works well. If you are getting this error, check what you wrote and copy that full path onto tscc. You can check if you typed it right with, \n",
    "\n",
    "    ls ~/processed_data/ENCFF943VGE_fastqc*\n",
    "    \n",
    "If it tells you this doesn't exist, there is a typo somewhere or you haven't defined the full path properly.\n",
    "\n",
    "*Q: How could you use scp to copy ALL files at once within the folder?*\n",
    "\n",
    "\n",
    "*-r means recursive (do multiple files at once)*\n",
    "\n",
    "\n",
    "Open a finder window to the location where you put the files on your computer and click on the html link to access the fastqc results."
   ]
  },
  {
   "cell_type": "markdown",
   "metadata": {
    "collapsed": true
   },
   "source": [
    "**How to write a submitter script to submit a job to the cluster**\n",
    "\n",
    "In the scripts directory in your home, make a fake submitter script. Since you will likely use a variation of the same PBS commands for all your processing needs, you can make a script in your home that you copy and modify for each job as necessary. We are going to use BASH to submit these scripts to the cluster, so they have the file extension .sh \n",
    "\n",
    "    cd ~/scripts\n",
    "    vi fake_script.sh\n",
    "    i\n",
    "    #!/bin/bash\n",
    "    #PBS -q hotel\n",
    "    #PBS -N jobname\n",
    "    #PBS -l nodes=1:ppn=8\n",
    "    #PBS -l walltime=1:00:00\n",
    "    #PBS -o outputfile\n",
    "    #PBS -e errorfile\n",
    "    esc\n",
    "    :wq\n",
    "    \n",
    "Remember you can learn more about which submission parameters to include and what they do [here](http://www.sdsc.edu/support/user_guides/tscc-quick-start.html)"
   ]
  },
  {
   "cell_type": "code",
   "execution_count": null,
   "metadata": {
    "collapsed": true
   },
   "outputs": [],
   "source": []
  }
 ],
 "metadata": {
  "kernelspec": {
   "display_name": "Python 2",
   "language": "python",
   "name": "python2"
  },
  "language_info": {
   "codemirror_mode": {
    "name": "ipython",
    "version": 2
   },
   "file_extension": ".py",
   "mimetype": "text/x-python",
   "name": "python",
   "nbconvert_exporter": "python",
   "pygments_lexer": "ipython2",
   "version": "2.7.12"
  }
 },
 "nbformat": 4,
 "nbformat_minor": 0
}
