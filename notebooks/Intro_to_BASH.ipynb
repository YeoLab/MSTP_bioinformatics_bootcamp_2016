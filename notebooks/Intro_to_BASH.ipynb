{
 "cells": [
  {
   "cell_type": "markdown",
   "metadata": {},
   "source": [
    "# This notebook will provide an overview of some of the most useful bash commands to navigate around the terminal"
   ]
  },
  {
   "cell_type": "markdown",
   "metadata": {},
   "source": [
    "**Start by openining a terminal window**\n",
    "\n",
    "For Mac - Applications folder - Utilities - Launch Terminal\n",
    "\n",
    "For Lunix - Applications - Accessories - Launch Terminal\n",
    "\n",
    "Windows - You will need to be logged into TSCC. See instructions in my previous email to windows users."
   ]
  },
  {
   "cell_type": "markdown",
   "metadata": {},
   "source": [
    "**What folder are you in?**\n",
    "\n",
    "\"print working directory\"\n",
    "    \n",
    "    pwd\n",
    "    \n",
    "For me, the output looks like:\n",
    "\n",
    "    /Users/emily\n",
    "    \n",
    "This is most likely your default home directory. Rather than typing the \"full file path\" of /Users/emily each time, there is a shortcut for the home directory. Try the following two commands below to \"change directory\" into your home and see where it takes you. \n",
    "\n",
    "    cd /Users/emily\n",
    "    pwd\n",
    "    \n",
    "    cd ~\n",
    "    pwd"
   ]
  },
  {
   "cell_type": "markdown",
   "metadata": {},
   "source": [
    "**View the contents of the directory you are in:**\n",
    "\n",
    "To list all files and folder in the directory:\n",
    "\n",
    "    ls\n",
    "    \n",
    "or:\n",
    "\n",
    "    ls ~/\n",
    "    \n",
    "*Q: What is the difference?*\n",
    "\n",
    "\n",
    "Example:\n",
    "\n",
    "    ls ~/Desktop/class_folder\n",
    "    \n",
    "Is equivalent to:\n",
    "\n",
    "    cd ~/Desktop/class_folder\n",
    "    ls\n",
    "    \n",
    "ls also have some specific \"flags\" that can provide more useful information about the files and folders in a specific directory. To learn more about all the possible flags you can use:\n",
    "\n",
    "    man ls\n",
    "    \n",
    "Use the down arrow to scroll through all the options. Notice there is a colon in the bottom left corner of your screen. This means you can use up and down arrows to scroll, and to get back out to the command line, type q.\n",
    "\n",
    "*Q: How would I print file sizes in human readable format for all the files in the folder I am currenly sitting in?*\n",
    "\n",
    "*Q: How would I view all files in the directory, including hidden files?*\n",
    "\n",
    "\n"
   ]
  },
  {
   "cell_type": "markdown",
   "metadata": {},
   "source": [
    "**Make a new directory**\n",
    "\n",
    "I want to make a new directory on my Desktop called \"mstp_bootcamp\". NOTE - spaces in filenames are really annoying to deal with. Link things together with underscores.\n",
    "\n",
    "    cd ~/Desktop/\n",
    "    mkdir mstp_bootcamp\n",
    "    \n",
    "or:\n",
    "\n",
    "    mkdir ~/Deskop/mstp_bootcamp"
   ]
  },
  {
   "cell_type": "markdown",
   "metadata": {},
   "source": [
    "**Look at a file**\n",
    "\n",
    "There are many different ways to look at the contents of a file. I like to use \"less\" because it lets me scroll with the up and down arrows. \"cat\" will throw the entire contents of a file onto your screen. \"head\" will let you look at just the top of the file. \"tail\" will let you look at just the bottom. Try them out! Find a file somewhere on your computer that you want to look at. \n",
    "\n",
    "    less ~/Desktop/interseting_file.txt\n",
    "    \n",
    "    cat ~/Desktop/interseting_file.txt\n",
    "    \n",
    "    head ~/Desktop/interseting_file.txt\n",
    "    \n",
    "    tail ~/Desktop/interseting_file.txt\n",
    "    \n",
    "Remember when you have the colon in the bottom left corner of the screen, you need to use q to get back to the command line"
   ]
  },
  {
   "cell_type": "markdown",
   "metadata": {},
   "source": [
    "**Make a new file or edit an existing file**\n",
    "\n",
    "There are many different text editors available. We are going to use vi. To edit the contents of an existing file or make a new one:\n",
    "\n",
    "    vi filename.txt\n",
    "    \n",
    "This will take you into an editor window. The filename will be displayed in the bottom left hand corner. You can use the arrow keys to move the cursor around the file. When you want to make changes, type the letter i which will take you into insert mode. Notice now the bottom left hand corner of the file says insert. Type something in the file. To get out of insert mode, press esc. Then to save and quit type :wq (w is for save, q is for quit). To quit without saving changes, type :q! See an example below:\n",
    "\n",
    "    cd ~/Desktop/mtsp_bioinformatics\n",
    "    vi filename.txt\n",
    "    i\n",
    "    <adding changes to the file here>\n",
    "    esc\n",
    "    :wq\n",
    "    \n",
    "Or: \n",
    "\n",
    "    vi ~/Desktop/mstp_bioinformatics/filename.txt\n",
    "    i\n",
    "    <change the file>\n",
    "    esc\n",
    "    :q!\n",
    "    \n",
    "*Q: What is the difference between the two examples given?*\n",
    "\n",
    "*A: The bottom file, we did not save the changes made to the file*"
   ]
  },
  {
   "cell_type": "markdown",
   "metadata": {},
   "source": [
    "**Use tab to avoid typos!**\n",
    "\n",
    "Rather than typing out the complete filename, your computer is smart enough to do it for you. Just start typing the beginning of the filename, and before you finish press tab to automatically fill in the rest. If there is more than one file name in that location with the same prefix, you will have to press tab twice to see all the options, and then you will have to type more unique characters to complete the proper filename. Try it out!\n",
    "\n",
    "    less fil<tab>\n",
    "    \n",
    "Now let's make another filename with the same prefix, but different ending. \n",
    "\n",
    "    vi filename_2.txt\n",
    "    i\n",
    "    <insert random text in the file>\n",
    "    esc\n",
    "    :wq\n",
    "    \n",
    "Now try to use tab to complete a file you want to view with less:\n",
    "\n",
    "    less fil<tab>\n",
    "    \n",
    "What happened? Try pressing tab twice (double tab)\n",
    "\n",
    "    less fil<tab><tab>"
   ]
  },
  {
   "cell_type": "markdown",
   "metadata": {},
   "source": [
    "**More information about BASH commands can be found with a google search**\n",
    "\n",
    "http://cli.learncodethehardway.org/bash_cheat_sheet.pdf"
   ]
  },
  {
   "cell_type": "code",
   "execution_count": null,
   "metadata": {
    "collapsed": true
   },
   "outputs": [],
   "source": []
  }
 ],
 "metadata": {
  "kernelspec": {
   "display_name": "Python 2",
   "language": "python",
   "name": "python2"
  },
  "language_info": {
   "codemirror_mode": {
    "name": "ipython",
    "version": 2
   },
   "file_extension": ".py",
   "mimetype": "text/x-python",
   "name": "python",
   "nbconvert_exporter": "python",
   "pygments_lexer": "ipython2",
   "version": "2.7.12"
  }
 },
 "nbformat": 4,
 "nbformat_minor": 0
}
