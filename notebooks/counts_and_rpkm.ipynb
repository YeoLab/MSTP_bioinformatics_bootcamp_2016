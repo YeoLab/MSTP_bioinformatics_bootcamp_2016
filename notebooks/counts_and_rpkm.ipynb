{
 "cells": [
  {
   "cell_type": "code",
   "execution_count": 5,
   "metadata": {
    "collapsed": true
   },
   "outputs": [],
   "source": [
    "import pandas as pd\n",
    "import numpy as np\n",
    "from matplotlib import pyplot as plt\n",
    "import seaborn as sns\n",
    "%matplotlib inline"
   ]
  },
  {
   "cell_type": "code",
   "execution_count": 6,
   "metadata": {
    "collapsed": false
   },
   "outputs": [
    {
     "name": "stdout",
     "output_type": "stream",
     "text": [
      "(57820, 10)\n"
     ]
    },
    {
     "data": {
      "text/html": [
       "<div>\n",
       "<table border=\"1\" class=\"dataframe\">\n",
       "  <thead>\n",
       "    <tr style=\"text-align: right;\">\n",
       "      <th></th>\n",
       "      <th>Chr</th>\n",
       "      <th>Start</th>\n",
       "      <th>End</th>\n",
       "      <th>Strand</th>\n",
       "      <th>Length</th>\n",
       "      <th>/home/ucsd-train01/scratch/annotations/allchrom.fa</th>\n",
       "      <th>lin28b_ctrl_rep1.bam</th>\n",
       "      <th>lin28b_ctrl_rep2.bam</th>\n",
       "      <th>lin28b_kd_rep1.bam</th>\n",
       "      <th>lin28b_kd_rep2.bam</th>\n",
       "    </tr>\n",
       "    <tr>\n",
       "      <th>Geneid</th>\n",
       "      <th></th>\n",
       "      <th></th>\n",
       "      <th></th>\n",
       "      <th></th>\n",
       "      <th></th>\n",
       "      <th></th>\n",
       "      <th></th>\n",
       "      <th></th>\n",
       "      <th></th>\n",
       "      <th></th>\n",
       "    </tr>\n",
       "  </thead>\n",
       "  <tbody>\n",
       "    <tr>\n",
       "      <th>ENSG00000223972.4</th>\n",
       "      <td>chr1;chr1;chr1;chr1</td>\n",
       "      <td>11869;12595;12975;13221</td>\n",
       "      <td>12227;12721;13052;14412</td>\n",
       "      <td>+;+;+;+</td>\n",
       "      <td>1756</td>\n",
       "      <td>0</td>\n",
       "      <td>0</td>\n",
       "      <td>2</td>\n",
       "      <td>0</td>\n",
       "      <td>0</td>\n",
       "    </tr>\n",
       "    <tr>\n",
       "      <th>ENSG00000227232.4</th>\n",
       "      <td>chr1;chr1;chr1;chr1;chr1;chr1;chr1;chr1;chr1;c...</td>\n",
       "      <td>14363;14970;15796;16607;16854;17233;17498;1760...</td>\n",
       "      <td>14829;15038;15947;16765;17055;17368;17504;1774...</td>\n",
       "      <td>-;-;-;-;-;-;-;-;-;-;-;-;-</td>\n",
       "      <td>2073</td>\n",
       "      <td>0</td>\n",
       "      <td>294</td>\n",
       "      <td>294</td>\n",
       "      <td>334</td>\n",
       "      <td>410</td>\n",
       "    </tr>\n",
       "    <tr>\n",
       "      <th>ENSG00000243485.2</th>\n",
       "      <td>chr1;chr1;chr1</td>\n",
       "      <td>29554;30267;30976</td>\n",
       "      <td>30039;30667;31109</td>\n",
       "      <td>+;+;+</td>\n",
       "      <td>1021</td>\n",
       "      <td>0</td>\n",
       "      <td>0</td>\n",
       "      <td>0</td>\n",
       "      <td>0</td>\n",
       "      <td>0</td>\n",
       "    </tr>\n",
       "    <tr>\n",
       "      <th>ENSG00000237613.2</th>\n",
       "      <td>chr1;chr1;chr1</td>\n",
       "      <td>34554;35245;35721</td>\n",
       "      <td>35174;35481;36081</td>\n",
       "      <td>-;-;-</td>\n",
       "      <td>1219</td>\n",
       "      <td>0</td>\n",
       "      <td>0</td>\n",
       "      <td>2</td>\n",
       "      <td>4</td>\n",
       "      <td>7</td>\n",
       "    </tr>\n",
       "    <tr>\n",
       "      <th>ENSG00000268020.2</th>\n",
       "      <td>chr1;chr1</td>\n",
       "      <td>52473;54830</td>\n",
       "      <td>53312;54936</td>\n",
       "      <td>+;+</td>\n",
       "      <td>947</td>\n",
       "      <td>0</td>\n",
       "      <td>0</td>\n",
       "      <td>0</td>\n",
       "      <td>0</td>\n",
       "      <td>0</td>\n",
       "    </tr>\n",
       "  </tbody>\n",
       "</table>\n",
       "</div>"
      ],
      "text/plain": [
       "                                                                 Chr  \\\n",
       "Geneid                                                                 \n",
       "ENSG00000223972.4                                chr1;chr1;chr1;chr1   \n",
       "ENSG00000227232.4  chr1;chr1;chr1;chr1;chr1;chr1;chr1;chr1;chr1;c...   \n",
       "ENSG00000243485.2                                     chr1;chr1;chr1   \n",
       "ENSG00000237613.2                                     chr1;chr1;chr1   \n",
       "ENSG00000268020.2                                          chr1;chr1   \n",
       "\n",
       "                                                               Start  \\\n",
       "Geneid                                                                 \n",
       "ENSG00000223972.4                            11869;12595;12975;13221   \n",
       "ENSG00000227232.4  14363;14970;15796;16607;16854;17233;17498;1760...   \n",
       "ENSG00000243485.2                                  29554;30267;30976   \n",
       "ENSG00000237613.2                                  34554;35245;35721   \n",
       "ENSG00000268020.2                                        52473;54830   \n",
       "\n",
       "                                                                 End  \\\n",
       "Geneid                                                                 \n",
       "ENSG00000223972.4                            12227;12721;13052;14412   \n",
       "ENSG00000227232.4  14829;15038;15947;16765;17055;17368;17504;1774...   \n",
       "ENSG00000243485.2                                  30039;30667;31109   \n",
       "ENSG00000237613.2                                  35174;35481;36081   \n",
       "ENSG00000268020.2                                        53312;54936   \n",
       "\n",
       "                                      Strand  Length  \\\n",
       "Geneid                                                 \n",
       "ENSG00000223972.4                    +;+;+;+    1756   \n",
       "ENSG00000227232.4  -;-;-;-;-;-;-;-;-;-;-;-;-    2073   \n",
       "ENSG00000243485.2                      +;+;+    1021   \n",
       "ENSG00000237613.2                      -;-;-    1219   \n",
       "ENSG00000268020.2                        +;+     947   \n",
       "\n",
       "                   /home/ucsd-train01/scratch/annotations/allchrom.fa  \\\n",
       "Geneid                                                                  \n",
       "ENSG00000223972.4                                                  0    \n",
       "ENSG00000227232.4                                                  0    \n",
       "ENSG00000243485.2                                                  0    \n",
       "ENSG00000237613.2                                                  0    \n",
       "ENSG00000268020.2                                                  0    \n",
       "\n",
       "                   lin28b_ctrl_rep1.bam  lin28b_ctrl_rep2.bam  \\\n",
       "Geneid                                                          \n",
       "ENSG00000223972.4                     0                     2   \n",
       "ENSG00000227232.4                   294                   294   \n",
       "ENSG00000243485.2                     0                     0   \n",
       "ENSG00000237613.2                     0                     2   \n",
       "ENSG00000268020.2                     0                     0   \n",
       "\n",
       "                   lin28b_kd_rep1.bam  lin28b_kd_rep2.bam  \n",
       "Geneid                                                     \n",
       "ENSG00000223972.4                   0                   0  \n",
       "ENSG00000227232.4                 334                 410  \n",
       "ENSG00000243485.2                   0                   0  \n",
       "ENSG00000237613.2                   4                   7  \n",
       "ENSG00000268020.2                   0                   0  "
      ]
     },
     "execution_count": 6,
     "metadata": {},
     "output_type": "execute_result"
    }
   ],
   "source": [
    "directory = '/projects/ps-yeolab/mstp_bootcamp_2016/'\n",
    "counts = pd.read_csv(directory+\"featureCounts.txt\",sep=\"\\t\",index_col=0,\n",
    "                    comment=\"#\")\n",
    "print counts.shape\n",
    "counts.head()"
   ]
  },
  {
   "cell_type": "code",
   "execution_count": 7,
   "metadata": {
    "collapsed": false
   },
   "outputs": [
    {
     "data": {
      "text/html": [
       "<div>\n",
       "<table border=\"1\" class=\"dataframe\">\n",
       "  <thead>\n",
       "    <tr style=\"text-align: right;\">\n",
       "      <th></th>\n",
       "      <th>Length</th>\n",
       "      <th>lin28b_ctrl_rep1.bam</th>\n",
       "      <th>lin28b_ctrl_rep2.bam</th>\n",
       "      <th>lin28b_kd_rep1.bam</th>\n",
       "      <th>lin28b_kd_rep2.bam</th>\n",
       "    </tr>\n",
       "    <tr>\n",
       "      <th>Geneid</th>\n",
       "      <th></th>\n",
       "      <th></th>\n",
       "      <th></th>\n",
       "      <th></th>\n",
       "      <th></th>\n",
       "    </tr>\n",
       "  </thead>\n",
       "  <tbody>\n",
       "    <tr>\n",
       "      <th>ENSG00000223972.4</th>\n",
       "      <td>1756</td>\n",
       "      <td>0</td>\n",
       "      <td>2</td>\n",
       "      <td>0</td>\n",
       "      <td>0</td>\n",
       "    </tr>\n",
       "    <tr>\n",
       "      <th>ENSG00000227232.4</th>\n",
       "      <td>2073</td>\n",
       "      <td>294</td>\n",
       "      <td>294</td>\n",
       "      <td>334</td>\n",
       "      <td>410</td>\n",
       "    </tr>\n",
       "    <tr>\n",
       "      <th>ENSG00000243485.2</th>\n",
       "      <td>1021</td>\n",
       "      <td>0</td>\n",
       "      <td>0</td>\n",
       "      <td>0</td>\n",
       "      <td>0</td>\n",
       "    </tr>\n",
       "    <tr>\n",
       "      <th>ENSG00000237613.2</th>\n",
       "      <td>1219</td>\n",
       "      <td>0</td>\n",
       "      <td>2</td>\n",
       "      <td>4</td>\n",
       "      <td>7</td>\n",
       "    </tr>\n",
       "    <tr>\n",
       "      <th>ENSG00000268020.2</th>\n",
       "      <td>947</td>\n",
       "      <td>0</td>\n",
       "      <td>0</td>\n",
       "      <td>0</td>\n",
       "      <td>0</td>\n",
       "    </tr>\n",
       "  </tbody>\n",
       "</table>\n",
       "</div>"
      ],
      "text/plain": [
       "                   Length  lin28b_ctrl_rep1.bam  lin28b_ctrl_rep2.bam  \\\n",
       "Geneid                                                                  \n",
       "ENSG00000223972.4    1756                     0                     2   \n",
       "ENSG00000227232.4    2073                   294                   294   \n",
       "ENSG00000243485.2    1021                     0                     0   \n",
       "ENSG00000237613.2    1219                     0                     2   \n",
       "ENSG00000268020.2     947                     0                     0   \n",
       "\n",
       "                   lin28b_kd_rep1.bam  lin28b_kd_rep2.bam  \n",
       "Geneid                                                     \n",
       "ENSG00000223972.4                   0                   0  \n",
       "ENSG00000227232.4                 334                 410  \n",
       "ENSG00000243485.2                   0                   0  \n",
       "ENSG00000237613.2                   4                   7  \n",
       "ENSG00000268020.2                   0                   0  "
      ]
     },
     "execution_count": 7,
     "metadata": {},
     "output_type": "execute_result"
    }
   ],
   "source": [
    "counts.drop(['Chr','Start','End','Strand',\n",
    "              '/home/ucsd-train01/scratch/annotations/allchrom.fa'], \n",
    "           axis=1, inplace=True)\n",
    "counts.head()"
   ]
  },
  {
   "cell_type": "code",
   "execution_count": 9,
   "metadata": {
    "collapsed": false
   },
   "outputs": [],
   "source": [
    "# save_directory = '/home/ucsd-train01/processed_data/'\n",
    "# counts.to_csv(save_directory+'counts_for_deseq2.csv')"
   ]
  },
  {
   "cell_type": "code",
   "execution_count": 10,
   "metadata": {
    "collapsed": false
   },
   "outputs": [
    {
     "data": {
      "text/html": [
       "<div>\n",
       "<table border=\"1\" class=\"dataframe\">\n",
       "  <thead>\n",
       "    <tr style=\"text-align: right;\">\n",
       "      <th></th>\n",
       "    </tr>\n",
       "  </thead>\n",
       "  <tbody>\n",
       "    <tr>\n",
       "      <th>lin28b_ctrl_rep1.bam</th>\n",
       "    </tr>\n",
       "    <tr>\n",
       "      <th>lin28b_ctrl_rep2.bam</th>\n",
       "    </tr>\n",
       "    <tr>\n",
       "      <th>lin28b_kd_rep1.bam</th>\n",
       "    </tr>\n",
       "    <tr>\n",
       "      <th>lin28b_kd_rep2.bam</th>\n",
       "    </tr>\n",
       "  </tbody>\n",
       "</table>\n",
       "</div>"
      ],
      "text/plain": [
       "Empty DataFrame\n",
       "Columns: []\n",
       "Index: [lin28b_ctrl_rep1.bam, lin28b_ctrl_rep2.bam, lin28b_kd_rep1.bam, lin28b_kd_rep2.bam]"
      ]
     },
     "execution_count": 10,
     "metadata": {},
     "output_type": "execute_result"
    }
   ],
   "source": [
    "conditions = pd.DataFrame(index = counts.columns[1:])\n",
    "conditions.head()"
   ]
  },
  {
   "cell_type": "code",
   "execution_count": 11,
   "metadata": {
    "collapsed": false
   },
   "outputs": [
    {
     "data": {
      "text/html": [
       "<div>\n",
       "<table border=\"1\" class=\"dataframe\">\n",
       "  <thead>\n",
       "    <tr style=\"text-align: right;\">\n",
       "      <th></th>\n",
       "      <th>condition</th>\n",
       "    </tr>\n",
       "  </thead>\n",
       "  <tbody>\n",
       "    <tr>\n",
       "      <th>lin28b_ctrl_rep1.bam</th>\n",
       "      <td>control</td>\n",
       "    </tr>\n",
       "    <tr>\n",
       "      <th>lin28b_ctrl_rep2.bam</th>\n",
       "      <td>control</td>\n",
       "    </tr>\n",
       "    <tr>\n",
       "      <th>lin28b_kd_rep1.bam</th>\n",
       "      <td>knockdown</td>\n",
       "    </tr>\n",
       "    <tr>\n",
       "      <th>lin28b_kd_rep2.bam</th>\n",
       "      <td>knockdown</td>\n",
       "    </tr>\n",
       "  </tbody>\n",
       "</table>\n",
       "</div>"
      ],
      "text/plain": [
       "                      condition\n",
       "lin28b_ctrl_rep1.bam    control\n",
       "lin28b_ctrl_rep2.bam    control\n",
       "lin28b_kd_rep1.bam    knockdown\n",
       "lin28b_kd_rep2.bam    knockdown"
      ]
     },
     "execution_count": 11,
     "metadata": {},
     "output_type": "execute_result"
    }
   ],
   "source": [
    "features= ['control','control','knockdown','knockdown']\n",
    "conditions['condition'] = features\n",
    "conditions.head()"
   ]
  },
  {
   "cell_type": "code",
   "execution_count": null,
   "metadata": {
    "collapsed": true
   },
   "outputs": [],
   "source": [
    "conditions.to_csv(save_directory+\"conditions_matrix_deseq2.csv\")"
   ]
  },
  {
   "cell_type": "code",
   "execution_count": 12,
   "metadata": {
    "collapsed": true
   },
   "outputs": [],
   "source": [
    "def counts_to_rpkm(featureCountsTable):\n",
    "    counts = featureCountsTable.ix[:,1:]\n",
    "    lengths = featureCountsTable['Length']\n",
    "    mapped_reads = counts.sum()\n",
    "    return (counts * pow(10,9)).div(mapped_reads, axis=1).div(lengths, axis=0)"
   ]
  },
  {
   "cell_type": "code",
   "execution_count": 15,
   "metadata": {
    "collapsed": false
   },
   "outputs": [
    {
     "name": "stdout",
     "output_type": "stream",
     "text": [
      "(57820, 4)\n"
     ]
    },
    {
     "data": {
      "text/html": [
       "<div>\n",
       "<table border=\"1\" class=\"dataframe\">\n",
       "  <thead>\n",
       "    <tr style=\"text-align: right;\">\n",
       "      <th></th>\n",
       "      <th>lin28b_ctrl_rep1.bam</th>\n",
       "      <th>lin28b_ctrl_rep2.bam</th>\n",
       "      <th>lin28b_kd_rep1.bam</th>\n",
       "      <th>lin28b_kd_rep2.bam</th>\n",
       "    </tr>\n",
       "    <tr>\n",
       "      <th>Geneid</th>\n",
       "      <th></th>\n",
       "      <th></th>\n",
       "      <th></th>\n",
       "      <th></th>\n",
       "    </tr>\n",
       "  </thead>\n",
       "  <tbody>\n",
       "    <tr>\n",
       "      <th>ENSG00000223972.4</th>\n",
       "      <td>0.000000</td>\n",
       "      <td>0.062309</td>\n",
       "      <td>0.000000</td>\n",
       "      <td>0.000000</td>\n",
       "    </tr>\n",
       "    <tr>\n",
       "      <th>ENSG00000227232.4</th>\n",
       "      <td>9.087219</td>\n",
       "      <td>7.758734</td>\n",
       "      <td>10.038027</td>\n",
       "      <td>8.460869</td>\n",
       "    </tr>\n",
       "    <tr>\n",
       "      <th>ENSG00000243485.2</th>\n",
       "      <td>0.000000</td>\n",
       "      <td>0.000000</td>\n",
       "      <td>0.000000</td>\n",
       "      <td>0.000000</td>\n",
       "    </tr>\n",
       "    <tr>\n",
       "      <th>ENSG00000237613.2</th>\n",
       "      <td>0.000000</td>\n",
       "      <td>0.089757</td>\n",
       "      <td>0.204436</td>\n",
       "      <td>0.245655</td>\n",
       "    </tr>\n",
       "    <tr>\n",
       "      <th>ENSG00000268020.2</th>\n",
       "      <td>0.000000</td>\n",
       "      <td>0.000000</td>\n",
       "      <td>0.000000</td>\n",
       "      <td>0.000000</td>\n",
       "    </tr>\n",
       "  </tbody>\n",
       "</table>\n",
       "</div>"
      ],
      "text/plain": [
       "                   lin28b_ctrl_rep1.bam  lin28b_ctrl_rep2.bam  \\\n",
       "Geneid                                                          \n",
       "ENSG00000223972.4              0.000000              0.062309   \n",
       "ENSG00000227232.4              9.087219              7.758734   \n",
       "ENSG00000243485.2              0.000000              0.000000   \n",
       "ENSG00000237613.2              0.000000              0.089757   \n",
       "ENSG00000268020.2              0.000000              0.000000   \n",
       "\n",
       "                   lin28b_kd_rep1.bam  lin28b_kd_rep2.bam  \n",
       "Geneid                                                     \n",
       "ENSG00000223972.4            0.000000            0.000000  \n",
       "ENSG00000227232.4           10.038027            8.460869  \n",
       "ENSG00000243485.2            0.000000            0.000000  \n",
       "ENSG00000237613.2            0.204436            0.245655  \n",
       "ENSG00000268020.2            0.000000            0.000000  "
      ]
     },
     "execution_count": 15,
     "metadata": {},
     "output_type": "execute_result"
    }
   ],
   "source": [
    "rpkm = counts_to_rpkm(counts)\n",
    "print rpkm.shape\n",
    "rpkm.head()"
   ]
  },
  {
   "cell_type": "code",
   "execution_count": 16,
   "metadata": {
    "collapsed": false
   },
   "outputs": [
    {
     "name": "stdout",
     "output_type": "stream",
     "text": [
      "(11973, 4)\n"
     ]
    },
    {
     "data": {
      "text/html": [
       "<div>\n",
       "<table border=\"1\" class=\"dataframe\">\n",
       "  <thead>\n",
       "    <tr style=\"text-align: right;\">\n",
       "      <th></th>\n",
       "      <th>lin28b_ctrl_rep1.bam</th>\n",
       "      <th>lin28b_ctrl_rep2.bam</th>\n",
       "      <th>lin28b_kd_rep1.bam</th>\n",
       "      <th>lin28b_kd_rep2.bam</th>\n",
       "    </tr>\n",
       "    <tr>\n",
       "      <th>Geneid</th>\n",
       "      <th></th>\n",
       "      <th></th>\n",
       "      <th></th>\n",
       "      <th></th>\n",
       "    </tr>\n",
       "  </thead>\n",
       "  <tbody>\n",
       "    <tr>\n",
       "      <th>ENSG00000227232.4</th>\n",
       "      <td>9.087219</td>\n",
       "      <td>7.758734</td>\n",
       "      <td>10.038027</td>\n",
       "      <td>8.460869</td>\n",
       "    </tr>\n",
       "    <tr>\n",
       "      <th>ENSG00000238009.2</th>\n",
       "      <td>1.543956</td>\n",
       "      <td>1.992690</td>\n",
       "      <td>2.391527</td>\n",
       "      <td>1.953761</td>\n",
       "    </tr>\n",
       "    <tr>\n",
       "      <th>ENSG00000237683.5</th>\n",
       "      <td>18.444499</td>\n",
       "      <td>24.506101</td>\n",
       "      <td>35.775001</td>\n",
       "      <td>33.052831</td>\n",
       "    </tr>\n",
       "    <tr>\n",
       "      <th>ENSG00000239906.1</th>\n",
       "      <td>2.182092</td>\n",
       "      <td>1.863086</td>\n",
       "      <td>4.822127</td>\n",
       "      <td>5.959920</td>\n",
       "    </tr>\n",
       "    <tr>\n",
       "      <th>ENSG00000241860.2</th>\n",
       "      <td>1.996177</td>\n",
       "      <td>0.953730</td>\n",
       "      <td>1.267157</td>\n",
       "      <td>0.987473</td>\n",
       "    </tr>\n",
       "  </tbody>\n",
       "</table>\n",
       "</div>"
      ],
      "text/plain": [
       "                   lin28b_ctrl_rep1.bam  lin28b_ctrl_rep2.bam  \\\n",
       "Geneid                                                          \n",
       "ENSG00000227232.4              9.087219              7.758734   \n",
       "ENSG00000238009.2              1.543956              1.992690   \n",
       "ENSG00000237683.5             18.444499             24.506101   \n",
       "ENSG00000239906.1              2.182092              1.863086   \n",
       "ENSG00000241860.2              1.996177              0.953730   \n",
       "\n",
       "                   lin28b_kd_rep1.bam  lin28b_kd_rep2.bam  \n",
       "Geneid                                                     \n",
       "ENSG00000227232.4           10.038027            8.460869  \n",
       "ENSG00000238009.2            2.391527            1.953761  \n",
       "ENSG00000237683.5           35.775001           33.052831  \n",
       "ENSG00000239906.1            4.822127            5.959920  \n",
       "ENSG00000241860.2            1.267157            0.987473  "
      ]
     },
     "execution_count": 16,
     "metadata": {},
     "output_type": "execute_result"
    }
   ],
   "source": [
    "rpkm_filtered = rpkm.loc[rpkm.mean(axis=1) > 1]\n",
    "print rpkm_filtered.shape\n",
    "rpkm_filtered.head()"
   ]
  },
  {
   "cell_type": "code",
   "execution_count": null,
   "metadata": {
    "collapsed": true
   },
   "outputs": [],
   "source": []
  }
 ],
 "metadata": {
  "kernelspec": {
   "display_name": "Python 2",
   "language": "python",
   "name": "python2"
  },
  "language_info": {
   "codemirror_mode": {
    "name": "ipython",
    "version": 2
   },
   "file_extension": ".py",
   "mimetype": "text/x-python",
   "name": "python",
   "nbconvert_exporter": "python",
   "pygments_lexer": "ipython2",
   "version": "2.7.12"
  }
 },
 "nbformat": 4,
 "nbformat_minor": 0
}
