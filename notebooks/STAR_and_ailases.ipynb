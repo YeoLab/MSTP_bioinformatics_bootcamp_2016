{
 "cells": [
  {
   "cell_type": "markdown",
   "metadata": {},
   "source": [
    "# Here we will use STAR to align reads to the genome"
   ]
  },
  {
   "cell_type": "markdown",
   "metadata": {},
   "source": [
    "**Build STAR genome index**\n",
    "\n",
    "Open the STAR user [manual](https://github.com/alexdobin/STAR/blob/master/doc/STARmanual.pdf). We will go through this briefly together to get an understanding of how to read documentation.\n",
    "\n",
    "Open UCSC genome [browser](https://genome.ucsc.edu/). The link to the specific annotations we will use is provided below, but first take a look through the website to see all the available annotations and features. We will go through this together.\n",
    "\n",
    "We will use UCSC to download the chromosome fasta files that are needed to build the STAR index. Use the same wget command followed by a copy of the web link address that we used previously to download the files to TSCC. The annotations are located [here](http://hgdownload.soe.ucsc.edu/goldenPath/hg19/bigZips/). Scroll to the bottom of the page and get the link for chromFa.tar.gz. We are going to first make a directory and do this processing in scratch because we will need a lot of space. Once you have made the folder, move into it so your annotations will land in the proper place.\n",
    "\n",
    "    mkdir ~/scratch/annotations_hg19/\n",
    "    cd ~/scratch/annotations_hg19/\n",
    "    wget http://hgdownload.soe.ucsc.edu/goldenPath/hg19/bigZips/chromFa.tar.gz\n",
    "\n",
    "This will download a zipped file that you will proceed to unzip with:\n",
    "\n",
    "    tar -xvf chromFa.tar.gz\n",
    "    \n",
    "Unfortunately this downloads EVERYthing and we only want the chr#.fa files. We will remove the rest of the stuff in the directory with rm. To remove more than one file at a time you have to use the -r flag (recursive). Remember you can use the star character to remove all things that contain common characters. For example:\n",
    "\n",
    "    rm -r *random*\n",
    "    rm -r *chrUn*\n",
    "    rm -r *hap*\n",
    "    \n",
    "Once the folder is clean and only contains one fasta file per chromosome (and the original tar.gz file) you can merge them all together using cat and assigning the output to a new file called chrall.fa using >. This is the chromosome fasta file that you will need to use to generate the genome index.\n",
    "\n",
    "    cat *.fa > chrall.fa\n",
    "    \n",
    "*NOTE - the > character saves the result of your command to a new file. In this case, we want to save the result of concatonating together all of the individual chromosome files into a giant one called chrall.fa*\n",
    "    \n",
    "*Q: Why did we have to clean up the folder before running the cat command*\n",
    "    \n",
    "Download the gtf annotation from gencode that can be found [here](http://www.gencodegenes.org/releases/19.html)\n",
    "\n",
    "We will use the most current gencode release (19) for genome build GRCh37 (hg19). We want the gtf file of the comprehensive gencode annotation for chromosomes. Right click on the link to get the link address and download to your annotations folder with wget:\n",
    "\n",
    "    cd ~/scratch/annotations_hg19/\n",
    "    wget ftp://ftp.sanger.ac.uk/pub/gencode/Gencode_human/release_19/gencode.v19.annotation.gtf.gz\n",
    "    \n",
    "Unzip the file with gunzip (REMEMBER TO USE TABS TO AVOID TYPOS!):\n",
    "\n",
    "    gunzip gencode.v19.annotation.gtf.gz\n",
    "    \n",
    "AKA\n",
    "\n",
    "    gunzip genc<tab>\n",
    "    \n",
    "*Note - the unzip is different than above, because the above file was tar.gz which required tar -xvf to unzip. This one is only .gz, so it can be unzipped with gunzip.*"
   ]
  },
  {
   "cell_type": "markdown",
   "metadata": {},
   "source": [
    "**Generate the STAR index**\n",
    "\n",
    "Refer to the STAR manual for a description of this step. What flags do you need to include? Work with your partner to decide what will be important given the information in the manual. \n",
    "\n",
    "Since STAR requires a lot of processing power, we are going to submit this command as a job to the cluster. Remember that handy fake submission script we made? Let's use it here by copying it and updating the necessary parameters:\n",
    "\n",
    "    cp ~/scripts/fake_script.sh ~/scripts/star_generate_index.sh\n",
    "    \n",
    "*Q: What do you need to change in the PBS flags for this script?*\n",
    "\n",
    "*Q: I want to receive an email if this script aborts for any reason. How do I get it to do this?*\n",
    "\n",
    "*#PBS -M ecwheele@ucsd.edu and* \n",
    "\n",
    "*#PBS -m a*\n",
    "\n",
    "Once you have decided on what your STAR command should look like, add it to your .sh file below all the PBS flags. PAY CLOSE ATTENTION TO FULL PATHS OF FILES. You have downloaded the necessary annotations already, make sure the paths to those files are correct in your command. I recommend copying and pasting them directly into your script. Remember you can display the path with pwd.\n",
    "\n",
    "What did you learn about the --genomeDir flag from the documentation? It looks like you need to make a folder where the output can go before we run the script. Let's make that now and make sure we have the path correct in our script before running.\n",
    "\n",
    "    mkdir ~/scratch/annotations/star\n",
    "\n",
    "    STAR --runThreadN 8 --runMode genomeGenerate --genomeDir ~/scratch/annotations/star --genomeFastaFiles ~/scratch/annotations/allchrom.fa --sjdbGTFFile ~/scratch/annotations/gencode.v19.annotation.gtf\n",
    "   \n",
    "   \n",
    "Ignore this for now.. \n",
    "    STAR --runMode genomeGenerate --genomeDir /projects/ps-yeolab/genomes/hg19/snRNA/snRNA_db --genomeFastaFiles /projects/ps-yeolab/genomes/hg19/snRNA/fasta_files/H_sapiens_all.fasta --runThreadN 16 --genomeChrBinNbits 10\n",
    "    \n",
    "Submit your script to the cluster with:\n",
    "\n",
    "    qsub star_generate_index.sh\n",
    "    \n",
    "**Dealing with Errors**\n",
    "\n",
    "Example error that was reported in the .err file:\n",
    "\n",
    "    EXITING: FATAL INPUT ERROR: unrecoginzed parameter name \"sjdbGTFFile\" in input \"Command-Line-Initial\"\n",
    "    SOLUTION: use correct parameter name (check the manual)\n",
    "\n",
    "    Jul 21 14:19:02 ...... FATAL ERROR, exiting\n",
    "    \n",
    "Solution... Go back and check that argument with the GTF filename, it looks like there was a typo, the second F should not be capitalized\n",
    "\n",
    "    STAR --runThreadN 8 --runMode genomeGenerate --genomeDir ~/scratch/test_annotations/star/ --genomeFastaFiles ~/scratch/test_annotations/chrall.fa --sjdbGTFfile ~/scratch/test_annotations/gencode.v19.annotation.gtf"
   ]
  },
  {
   "cell_type": "markdown",
   "metadata": {},
   "source": [
    "**How to check the status of your job**\n",
    "\n",
    "    qstat -u username\n",
    "    \n",
    "AKA:\n",
    "\n",
    "    qstat -u ucsd-train01\n",
    "    \n",
    "Take a look at the status (The column labeled S). Q means your job is in the queue and has not started yet. R means your job is running (you will see the time updated according to how long it has been running). C means your job is complete. \n",
    "\n",
    "Once your job has been running for ~5-10 minutes without aborting, you likely are okay and it will run to completion. But this takes some time. So in the meantime, read up on the STAR mapping steps described below and write your script for mapping. However, you will have to wait until the generate genome step is complete before you submit your mapping job."
   ]
  },
  {
   "cell_type": "markdown",
   "metadata": {},
   "source": [
    "**Map reads to the genome**\n",
    "\n",
    "Once your job is complete you can move onto the next step of mapping your reads to the genome. Once again, copy your fake .sh script and make the necessary changes for this particular job submission.\n",
    "\n",
    "    cp ~/scripts/fake_script.sh ~/scripts/star_mapping.sh\n",
    "\n",
    "Information on this step can be found under \"Running mapping jobs\" in the basic options:\n",
    "\n",
    "    STAR --runThreadN 8 --genomeDir /projects/ps-yeolab/mstp_bootcamp_2016/star --readFilesIn ~/raw_data/ENCFF621LMO.fastq.gz ~/raw_data/ENCFF653FTD.fastq.gz --readFilesCommand zcat --genomeLoad LoadAndRemove --outFilterType BySJout --outFilterMultimapNmax 10 --alignSJoverhangMin 8 --alignSJDBoverhangMin 1 --outFilterMismatchNmax 4 --alignIntronMin 20 --alignIntronMax 1000000 --alignMatesGapMax 100000 --outFileNamePrefix ~/processed_data_test/lin28_kd_rep1"
   ]
  },
  {
   "cell_type": "markdown",
   "metadata": {
    "collapsed": true
   },
   "source": [
    "**A side note on aliases**\n",
    "\n",
    "If there are particular commands that you use a lot but are lengthy to type each time, you can make a handy shortcut for yourself by defining an alias in your ~/.bashrc file. For example, \n",
    "\n",
    "    qstat -u ecwheele\n",
    "    \n",
    "is really annoying to type and I use it a lot. I want to make a shortcut so I can just use:\n",
    "\n",
    "    qme\n",
    "    \n",
    "To do this, open your bashrc and add the following line to the bottom of your file, below the line that says #user specific aliases and functions:\n",
    "\n",
    "    vi ~/.bashrc\n",
    "    i\n",
    "    alias qme=\"qstat -u ucsd-train##\"\n",
    "    esc\n",
    "    :wq\n",
    "    \n",
    "*NOTE - Don't forget to substitute your specific number for the ##*\n",
    "\n",
    "Now try your new alias!\n",
    "\n",
    "    qme\n",
    "    \n",
    "What happened? Why did you get this error?\n",
    "\n",
    "    -bash: qme: command not found\n",
    "\n",
    "You changed your ~/.bashrc, but have not logged out and logged back in! How do you activate the changes that you made to the file?\n",
    "\n",
    "    source ~/.bashrc"
   ]
  },
  {
   "cell_type": "markdown",
   "metadata": {},
   "source": [
    "**Take a look at the Log file to determine mapping quality**\n",
    "\n",
    "In section 4 Output Files of the STAR manual, take a look at the different output files to expect and view each one with less to see how your run went. \n",
    "\n",
    "Remember you specified the path of where these files would end up with your STAR submission script above."
   ]
  }
 ],
 "metadata": {
  "kernelspec": {
   "display_name": "Python 2",
   "language": "python",
   "name": "python2"
  },
  "language_info": {
   "codemirror_mode": {
    "name": "ipython",
    "version": 2
   },
   "file_extension": ".py",
   "mimetype": "text/x-python",
   "name": "python",
   "nbconvert_exporter": "python",
   "pygments_lexer": "ipython2",
   "version": "2.7.12"
  }
 },
 "nbformat": 4,
 "nbformat_minor": 0
}
