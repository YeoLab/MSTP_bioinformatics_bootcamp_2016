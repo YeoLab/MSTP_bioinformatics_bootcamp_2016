{
 "cells": [
  {
   "cell_type": "code",
   "execution_count": 1,
   "metadata": {
    "collapsed": true
   },
   "outputs": [],
   "source": [
    "import pandas as pd"
   ]
  },
  {
   "cell_type": "code",
   "execution_count": 2,
   "metadata": {
    "collapsed": false
   },
   "outputs": [],
   "source": [
    "master_processing_table = pd.read_table(\n",
    "    \"/home/gpratt/Dropbox/encode_integration/20160408_ENCODE_MASTER_ID_LIST_AllDatasets.csv\", \n",
    "    index_col=0 )"
   ]
  },
  {
   "cell_type": "code",
   "execution_count": 3,
   "metadata": {
    "collapsed": false
   },
   "outputs": [
    {
     "data": {
      "text/html": [
       "<div>\n",
       "<table border=\"1\" class=\"dataframe\">\n",
       "  <thead>\n",
       "    <tr style=\"text-align: right;\">\n",
       "      <th></th>\n",
       "      <th>uID</th>\n",
       "      <th>RBP_gID</th>\n",
       "      <th>CellLine</th>\n",
       "      <th>CLIP_rep1</th>\n",
       "      <th>CLIP_rep2</th>\n",
       "      <th>INPUT</th>\n",
       "      <th>RNASEQ_ControlRep1Bam</th>\n",
       "      <th>RNASEQ_ControlRep2Bam</th>\n",
       "      <th>RNASEQ_ControlENC</th>\n",
       "      <th>RNASEQ_KDRep1Bam</th>\n",
       "      <th>RNASEQ_KDRep2Bam</th>\n",
       "      <th>RNASEQ_ENCODEAccID</th>\n",
       "      <th>selection_method</th>\n",
       "      <th>RBP_ENSG</th>\n",
       "    </tr>\n",
       "  </thead>\n",
       "  <tbody>\n",
       "    <tr>\n",
       "      <th>0</th>\n",
       "      <td>202</td>\n",
       "      <td>PTBP1</td>\n",
       "      <td>HepG2</td>\n",
       "      <td>/projects/ps-yeolab2/encode/analysis/encode_v1...</td>\n",
       "      <td>/projects/ps-yeolab2/encode/analysis/encode_v1...</td>\n",
       "      <td>/projects/ps-yeolab2/encode/analysis/encode_v1...</td>\n",
       "      <td>ENCFF571ARP.bam</td>\n",
       "      <td>ENCFF755GKJ.bam</td>\n",
       "      <td>ENCSR603TCV</td>\n",
       "      <td>ENCFF527FPF.bam</td>\n",
       "      <td>ENCFF155FIK.bam</td>\n",
       "      <td>ENCSR064DXG</td>\n",
       "      <td>polyadenylated mRNA</td>\n",
       "      <td>ENSG00000011304.12</td>\n",
       "    </tr>\n",
       "    <tr>\n",
       "      <th>1</th>\n",
       "      <td>203</td>\n",
       "      <td>HNRNPC</td>\n",
       "      <td>HepG2</td>\n",
       "      <td>/projects/ps-yeolab2/encode/analysis/encode_v1...</td>\n",
       "      <td>/projects/ps-yeolab2/encode/analysis/encode_v1...</td>\n",
       "      <td>/projects/ps-yeolab2/encode/analysis/encode_v1...</td>\n",
       "      <td>ENCFF460AAE.bam</td>\n",
       "      <td>ENCFF058QDT.bam</td>\n",
       "      <td>ENCSR305XWT</td>\n",
       "      <td>ENCFF031QZG.bam</td>\n",
       "      <td>ENCFF531AUK.bam</td>\n",
       "      <td>ENCSR052IYH</td>\n",
       "      <td>polyadenylated mRNA</td>\n",
       "      <td>ENSG00000092199.13</td>\n",
       "    </tr>\n",
       "    <tr>\n",
       "      <th>2</th>\n",
       "      <td>204</td>\n",
       "      <td>RBFOX2</td>\n",
       "      <td>HepG2</td>\n",
       "      <td>/projects/ps-yeolab2/encode/analysis/encode_v1...</td>\n",
       "      <td>/projects/ps-yeolab2/encode/analysis/encode_v1...</td>\n",
       "      <td>/projects/ps-yeolab2/encode/analysis/encode_v1...</td>\n",
       "      <td>ENCFF893QHC.bam</td>\n",
       "      <td>ENCFF988VWE.bam</td>\n",
       "      <td>ENCSR104ABF</td>\n",
       "      <td>ENCFF946VPZ.bam</td>\n",
       "      <td>ENCFF347ERZ.bam</td>\n",
       "      <td>ENCSR767LLP</td>\n",
       "      <td>polyadenylated mRNA</td>\n",
       "      <td>ENSG00000100320.18</td>\n",
       "    </tr>\n",
       "    <tr>\n",
       "      <th>3</th>\n",
       "      <td>205</td>\n",
       "      <td>IGF2BP1</td>\n",
       "      <td>HepG2</td>\n",
       "      <td>/projects/ps-yeolab2/encode/analysis/encode_v1...</td>\n",
       "      <td>/projects/ps-yeolab2/encode/analysis/encode_v1...</td>\n",
       "      <td>/projects/ps-yeolab2/encode/analysis/encode_v1...</td>\n",
       "      <td>ENCFF326XKY.bam</td>\n",
       "      <td>ENCFF499UUZ.bam</td>\n",
       "      <td>ENCSR491FOC</td>\n",
       "      <td>ENCFF100NIE.bam</td>\n",
       "      <td>ENCFF148JEK.bam</td>\n",
       "      <td>ENCSR708GKW</td>\n",
       "      <td>polyadenylated mRNA</td>\n",
       "      <td>ENSG00000159217.5</td>\n",
       "    </tr>\n",
       "    <tr>\n",
       "      <th>4</th>\n",
       "      <td>206</td>\n",
       "      <td>HNRNPK</td>\n",
       "      <td>HepG2</td>\n",
       "      <td>/projects/ps-yeolab2/encode/analysis/encode_v1...</td>\n",
       "      <td>/projects/ps-yeolab2/encode/analysis/encode_v1...</td>\n",
       "      <td>/projects/ps-yeolab2/encode/analysis/encode_v1...</td>\n",
       "      <td>ENCFF857QSU.bam</td>\n",
       "      <td>ENCFF052HTH.bam</td>\n",
       "      <td>ENCSR237YZT</td>\n",
       "      <td>ENCFF589WIS.bam</td>\n",
       "      <td>ENCFF033EZX.bam</td>\n",
       "      <td>ENCSR853ZJS</td>\n",
       "      <td>polyadenylated mRNA</td>\n",
       "      <td>ENSG00000165119.14</td>\n",
       "    </tr>\n",
       "  </tbody>\n",
       "</table>\n",
       "</div>"
      ],
      "text/plain": [
       "   uID  RBP_gID CellLine                                          CLIP_rep1  \\\n",
       "0  202    PTBP1    HepG2  /projects/ps-yeolab2/encode/analysis/encode_v1...   \n",
       "1  203   HNRNPC    HepG2  /projects/ps-yeolab2/encode/analysis/encode_v1...   \n",
       "2  204   RBFOX2    HepG2  /projects/ps-yeolab2/encode/analysis/encode_v1...   \n",
       "3  205  IGF2BP1    HepG2  /projects/ps-yeolab2/encode/analysis/encode_v1...   \n",
       "4  206   HNRNPK    HepG2  /projects/ps-yeolab2/encode/analysis/encode_v1...   \n",
       "\n",
       "                                           CLIP_rep2  \\\n",
       "0  /projects/ps-yeolab2/encode/analysis/encode_v1...   \n",
       "1  /projects/ps-yeolab2/encode/analysis/encode_v1...   \n",
       "2  /projects/ps-yeolab2/encode/analysis/encode_v1...   \n",
       "3  /projects/ps-yeolab2/encode/analysis/encode_v1...   \n",
       "4  /projects/ps-yeolab2/encode/analysis/encode_v1...   \n",
       "\n",
       "                                               INPUT RNASEQ_ControlRep1Bam  \\\n",
       "0  /projects/ps-yeolab2/encode/analysis/encode_v1...       ENCFF571ARP.bam   \n",
       "1  /projects/ps-yeolab2/encode/analysis/encode_v1...       ENCFF460AAE.bam   \n",
       "2  /projects/ps-yeolab2/encode/analysis/encode_v1...       ENCFF893QHC.bam   \n",
       "3  /projects/ps-yeolab2/encode/analysis/encode_v1...       ENCFF326XKY.bam   \n",
       "4  /projects/ps-yeolab2/encode/analysis/encode_v1...       ENCFF857QSU.bam   \n",
       "\n",
       "  RNASEQ_ControlRep2Bam RNASEQ_ControlENC RNASEQ_KDRep1Bam RNASEQ_KDRep2Bam  \\\n",
       "0       ENCFF755GKJ.bam       ENCSR603TCV  ENCFF527FPF.bam  ENCFF155FIK.bam   \n",
       "1       ENCFF058QDT.bam       ENCSR305XWT  ENCFF031QZG.bam  ENCFF531AUK.bam   \n",
       "2       ENCFF988VWE.bam       ENCSR104ABF  ENCFF946VPZ.bam  ENCFF347ERZ.bam   \n",
       "3       ENCFF499UUZ.bam       ENCSR491FOC  ENCFF100NIE.bam  ENCFF148JEK.bam   \n",
       "4       ENCFF052HTH.bam       ENCSR237YZT  ENCFF589WIS.bam  ENCFF033EZX.bam   \n",
       "\n",
       "  RNASEQ_ENCODEAccID     selection_method            RBP_ENSG  \n",
       "0        ENCSR064DXG  polyadenylated mRNA  ENSG00000011304.12  \n",
       "1        ENCSR052IYH  polyadenylated mRNA  ENSG00000092199.13  \n",
       "2        ENCSR767LLP  polyadenylated mRNA  ENSG00000100320.18  \n",
       "3        ENCSR708GKW  polyadenylated mRNA   ENSG00000159217.5  \n",
       "4        ENCSR853ZJS  polyadenylated mRNA  ENSG00000165119.14  "
      ]
     },
     "execution_count": 3,
     "metadata": {},
     "output_type": "execute_result"
    }
   ],
   "source": [
    "master_processing_table.head()"
   ]
  },
  {
   "cell_type": "code",
   "execution_count": 4,
   "metadata": {
    "collapsed": false
   },
   "outputs": [
    {
     "data": {
      "text/html": [
       "<div>\n",
       "<table border=\"1\" class=\"dataframe\">\n",
       "  <thead>\n",
       "    <tr style=\"text-align: right;\">\n",
       "      <th></th>\n",
       "      <th>uID</th>\n",
       "      <th>RBP_gID</th>\n",
       "      <th>CellLine</th>\n",
       "      <th>CLIP_rep1</th>\n",
       "      <th>CLIP_rep2</th>\n",
       "      <th>INPUT</th>\n",
       "      <th>RNASEQ_ControlRep1Bam</th>\n",
       "      <th>RNASEQ_ControlRep2Bam</th>\n",
       "      <th>RNASEQ_ControlENC</th>\n",
       "      <th>RNASEQ_KDRep1Bam</th>\n",
       "      <th>RNASEQ_KDRep2Bam</th>\n",
       "      <th>RNASEQ_ENCODEAccID</th>\n",
       "      <th>selection_method</th>\n",
       "      <th>RBP_ENSG</th>\n",
       "    </tr>\n",
       "  </thead>\n",
       "  <tbody>\n",
       "    <tr>\n",
       "      <th>77</th>\n",
       "      <td>325</td>\n",
       "      <td>LIN28B</td>\n",
       "      <td>K562</td>\n",
       "      <td>/projects/ps-yeolab2/encode/analysis/encode_v1...</td>\n",
       "      <td>/projects/ps-yeolab2/encode/analysis/encode_v1...</td>\n",
       "      <td>/projects/ps-yeolab2/encode/analysis/encode_v1...</td>\n",
       "      <td>ENCFF719PLT.bam</td>\n",
       "      <td>ENCFF275ZEJ.bam</td>\n",
       "      <td>ENCSR572FFX</td>\n",
       "      <td>ENCFF011SYE.bam</td>\n",
       "      <td>ENCFF655PJZ.bam</td>\n",
       "      <td>ENCSR598YQX</td>\n",
       "      <td>polyadenylated mRNA</td>\n",
       "      <td>ENSG00000187772.6</td>\n",
       "    </tr>\n",
       "  </tbody>\n",
       "</table>\n",
       "</div>"
      ],
      "text/plain": [
       "    uID RBP_gID CellLine                                          CLIP_rep1  \\\n",
       "77  325  LIN28B     K562  /projects/ps-yeolab2/encode/analysis/encode_v1...   \n",
       "\n",
       "                                            CLIP_rep2  \\\n",
       "77  /projects/ps-yeolab2/encode/analysis/encode_v1...   \n",
       "\n",
       "                                                INPUT RNASEQ_ControlRep1Bam  \\\n",
       "77  /projects/ps-yeolab2/encode/analysis/encode_v1...       ENCFF719PLT.bam   \n",
       "\n",
       "   RNASEQ_ControlRep2Bam RNASEQ_ControlENC RNASEQ_KDRep1Bam RNASEQ_KDRep2Bam  \\\n",
       "77       ENCFF275ZEJ.bam       ENCSR572FFX  ENCFF011SYE.bam  ENCFF655PJZ.bam   \n",
       "\n",
       "   RNASEQ_ENCODEAccID     selection_method           RBP_ENSG  \n",
       "77        ENCSR598YQX  polyadenylated mRNA  ENSG00000187772.6  "
      ]
     },
     "execution_count": 4,
     "metadata": {},
     "output_type": "execute_result"
    }
   ],
   "source": [
    "master_processing_table.loc[(master_processing_table['RBP_gID'] == 'LIN28B') & \n",
    "                            (master_processing_table['CellLine'] == 'K562')]"
   ]
  },
  {
   "cell_type": "code",
   "execution_count": null,
   "metadata": {
    "collapsed": true
   },
   "outputs": [],
   "source": []
  }
 ],
 "metadata": {
  "kernelspec": {
   "display_name": "Python 2",
   "language": "python",
   "name": "python2"
  },
  "language_info": {
   "codemirror_mode": {
    "name": "ipython",
    "version": 2
   },
   "file_extension": ".py",
   "mimetype": "text/x-python",
   "name": "python",
   "nbconvert_exporter": "python",
   "pygments_lexer": "ipython2",
   "version": "2.7.12"
  }
 },
 "nbformat": 4,
 "nbformat_minor": 0
}
