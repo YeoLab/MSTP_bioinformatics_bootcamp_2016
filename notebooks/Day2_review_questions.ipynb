{
 "cells": [
  {
   "cell_type": "markdown",
   "metadata": {},
   "source": [
    "# Recap from yesterday"
   ]
  },
  {
   "cell_type": "markdown",
   "metadata": {},
   "source": [
    "**ALL**\n",
    "\n",
    "Discuss what you learned from the paper.\n",
    "\n",
    "What is the meaning of \"full path?\"\n",
    "\n",
    "What is the meaning of a flow cell?\n",
    "\n",
    "**Group 1**\n",
    "\n",
    "What is the PATH variable? How do you view your PATH variable?\n",
    "\n",
    "**Group 2**\n",
    "\n",
    "How does a bashrc work? What does it do?\n",
    "\n",
    "**Group 3**\n",
    "\n",
    "What is in index? How do we use them in sequencing experiments?\n",
    "\n",
    "**Group 4**\n",
    "\n",
    "Draw a cartoon of what one \"read\" looks like from the output of an illumina HiSeq run. Label all the important components. "
   ]
  },
  {
   "cell_type": "code",
   "execution_count": null,
   "metadata": {
    "collapsed": true
   },
   "outputs": [],
   "source": []
  }
 ],
 "metadata": {
  "kernelspec": {
   "display_name": "Python 2",
   "language": "python",
   "name": "python2"
  },
  "language_info": {
   "codemirror_mode": {
    "name": "ipython",
    "version": 2
   },
   "file_extension": ".py",
   "mimetype": "text/x-python",
   "name": "python",
   "nbconvert_exporter": "python",
   "pygments_lexer": "ipython2",
   "version": "2.7.12"
  }
 },
 "nbformat": 4,
 "nbformat_minor": 0
}
